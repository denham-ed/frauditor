{
  "cells": [
    {
      "attachments": {},
      "cell_type": "markdown",
      "metadata": {
        "id": "0aStgWSO0E0E"
      },
      "source": [
        "# **Data Collection**"
      ]
    },
    {
      "attachments": {},
      "cell_type": "markdown",
      "metadata": {
        "id": "1eLEkw5O0ECa"
      },
      "source": [
        "## Objectives\n",
        "* Install dependencies (Do I need this?)\n",
        "* Fetch data from Kaggle\n",
        "* Do an initial inspection of the data\n",
        "* Save the raw data in the outputs folder\n",
        "\n",
        "## Inputs\n",
        "\n",
        "* Kaggle JSON file - used for authentification\n",
        "\n",
        "## Outputs\n",
        "\n",
        "* Raw dataset, saved in the output folder as a csv file"
      ]
    },
    {
      "cell_type": "markdown",
      "metadata": {
        "id": "9uWZXH9LwoQg"
      },
      "source": [
        "---"
      ]
    },
    {
      "attachments": {},
      "cell_type": "markdown",
      "metadata": {
        "id": "cqP-UeN-z3i2"
      },
      "source": [
        "# Set up the Working Directory"
      ]
    },
    {
      "cell_type": "code",
      "execution_count": 1,
      "metadata": {
        "id": "wZfF_j-Bz3i4",
        "outputId": "66943449-1436-4c3d-85c7-b85f9f78349b"
      },
      "outputs": [
        {
          "data": {
            "text/plain": [
              "'/Users/edsmacbook/Library/CloudStorage/OneDrive-Personal/code_institute/predictive_analytics/frauditor'"
            ]
          },
          "execution_count": 1,
          "metadata": {},
          "output_type": "execute_result"
        }
      ],
      "source": [
        "import os\n",
        "current_dir = os.getcwd()\n",
        "os.chdir(os.path.dirname(current_dir))\n",
        "current_dir = os.getcwd()\n",
        "current_dir"
      ]
    },
    {
      "attachments": {},
      "cell_type": "markdown",
      "metadata": {},
      "source": [
        "## Install Python Packages"
      ]
    },
    {
      "cell_type": "code",
      "execution_count": 2,
      "metadata": {},
      "outputs": [
        {
          "name": "stdout",
          "output_type": "stream",
          "text": [
            "Requirement already satisfied: altair==5.0.1 in ./.venv/lib/python3.11/site-packages (from -r requirements.txt (line 1)) (5.0.1)\n",
            "Requirement already satisfied: astor==0.8.1 in ./.venv/lib/python3.11/site-packages (from -r requirements.txt (line 2)) (0.8.1)\n",
            "Requirement already satisfied: base58==2.1.1 in ./.venv/lib/python3.11/site-packages (from -r requirements.txt (line 3)) (2.1.1)\n",
            "Requirement already satisfied: blinker==1.6.2 in ./.venv/lib/python3.11/site-packages (from -r requirements.txt (line 4)) (1.6.2)\n",
            "Requirement already satisfied: cachetools==5.3.1 in ./.venv/lib/python3.11/site-packages (from -r requirements.txt (line 5)) (5.3.1)\n",
            "Requirement already satisfied: click==7.1.2 in ./.venv/lib/python3.11/site-packages (from -r requirements.txt (line 6)) (7.1.2)\n",
            "Requirement already satisfied: contourpy==1.0.7 in ./.venv/lib/python3.11/site-packages (from -r requirements.txt (line 7)) (1.0.7)\n",
            "Requirement already satisfied: cycler==0.11.0 in ./.venv/lib/python3.11/site-packages (from -r requirements.txt (line 8)) (0.11.0)\n",
            "Requirement already satisfied: dacite==1.8.1 in ./.venv/lib/python3.11/site-packages (from -r requirements.txt (line 9)) (1.8.1)\n",
            "Requirement already satisfied: feature-engine==1.6.0 in ./.venv/lib/python3.11/site-packages (from -r requirements.txt (line 10)) (1.6.0)\n",
            "Requirement already satisfied: fonttools==4.39.4 in ./.venv/lib/python3.11/site-packages (from -r requirements.txt (line 11)) (4.39.4)\n",
            "Requirement already satisfied: htmlmin==0.1.12 in ./.venv/lib/python3.11/site-packages (from -r requirements.txt (line 12)) (0.1.12)\n",
            "Requirement already satisfied: ImageHash==4.3.1 in ./.venv/lib/python3.11/site-packages (from -r requirements.txt (line 13)) (4.3.1)\n",
            "Requirement already satisfied: ipywidgets==8.0.6 in ./.venv/lib/python3.11/site-packages (from -r requirements.txt (line 14)) (8.0.6)\n",
            "Requirement already satisfied: joblib==1.2.0 in ./.venv/lib/python3.11/site-packages (from -r requirements.txt (line 15)) (1.2.0)\n",
            "Requirement already satisfied: jupyterlab-widgets==3.0.7 in ./.venv/lib/python3.11/site-packages (from -r requirements.txt (line 16)) (3.0.7)\n",
            "Requirement already satisfied: kiwisolver==1.4.4 in ./.venv/lib/python3.11/site-packages (from -r requirements.txt (line 17)) (1.4.4)\n",
            "Requirement already satisfied: matplotlib==3.7.1 in ./.venv/lib/python3.11/site-packages (from -r requirements.txt (line 18)) (3.7.1)\n",
            "Requirement already satisfied: multimethod==1.9.1 in ./.venv/lib/python3.11/site-packages (from -r requirements.txt (line 19)) (1.9.1)\n",
            "Requirement already satisfied: networkx==3.1 in ./.venv/lib/python3.11/site-packages (from -r requirements.txt (line 20)) (3.1)\n",
            "Requirement already satisfied: numpy==1.23.5 in ./.venv/lib/python3.11/site-packages (from -r requirements.txt (line 21)) (1.23.5)\n",
            "Requirement already satisfied: pandas==1.5.3 in ./.venv/lib/python3.11/site-packages (from -r requirements.txt (line 22)) (1.5.3)\n",
            "Requirement already satisfied: patsy==0.5.3 in ./.venv/lib/python3.11/site-packages (from -r requirements.txt (line 23)) (0.5.3)\n",
            "Requirement already satisfied: phik==0.12.3 in ./.venv/lib/python3.11/site-packages (from -r requirements.txt (line 24)) (0.12.3)\n",
            "Requirement already satisfied: Pillow==9.5.0 in ./.venv/lib/python3.11/site-packages (from -r requirements.txt (line 25)) (9.5.0)\n",
            "Requirement already satisfied: ppscore==1.3.0 in ./.venv/lib/python3.11/site-packages (from -r requirements.txt (line 26)) (1.3.0)\n",
            "Requirement already satisfied: protobuf==4.23.2 in ./.venv/lib/python3.11/site-packages (from -r requirements.txt (line 27)) (4.23.2)\n",
            "Requirement already satisfied: pyarrow==12.0.0 in ./.venv/lib/python3.11/site-packages (from -r requirements.txt (line 28)) (12.0.0)\n",
            "Requirement already satisfied: pydantic==1.10.8 in ./.venv/lib/python3.11/site-packages (from -r requirements.txt (line 29)) (1.10.8)\n",
            "Requirement already satisfied: pydeck==0.8.1b0 in ./.venv/lib/python3.11/site-packages (from -r requirements.txt (line 30)) (0.8.1b0)\n",
            "Requirement already satisfied: pyparsing==3.0.9 in ./.venv/lib/python3.11/site-packages (from -r requirements.txt (line 31)) (3.0.9)\n",
            "Requirement already satisfied: pytz==2023.3 in ./.venv/lib/python3.11/site-packages (from -r requirements.txt (line 32)) (2023.3)\n",
            "Requirement already satisfied: PyWavelets==1.4.1 in ./.venv/lib/python3.11/site-packages (from -r requirements.txt (line 33)) (1.4.1)\n",
            "Requirement already satisfied: scikit-learn==1.2.2 in ./.venv/lib/python3.11/site-packages (from -r requirements.txt (line 34)) (1.2.2)\n",
            "Requirement already satisfied: scipy==1.10.1 in ./.venv/lib/python3.11/site-packages (from -r requirements.txt (line 35)) (1.10.1)\n",
            "Requirement already satisfied: seaborn==0.12.2 in ./.venv/lib/python3.11/site-packages (from -r requirements.txt (line 36)) (0.12.2)\n",
            "Requirement already satisfied: statsmodels==0.14.0 in ./.venv/lib/python3.11/site-packages (from -r requirements.txt (line 37)) (0.14.0)\n",
            "Requirement already satisfied: streamlit==0.85.0 in ./.venv/lib/python3.11/site-packages (from -r requirements.txt (line 38)) (0.85.0)\n",
            "Requirement already satisfied: tangled-up-in-unicode==0.2.0 in ./.venv/lib/python3.11/site-packages (from -r requirements.txt (line 39)) (0.2.0)\n",
            "Requirement already satisfied: threadpoolctl==3.1.0 in ./.venv/lib/python3.11/site-packages (from -r requirements.txt (line 40)) (3.1.0)\n",
            "Requirement already satisfied: toml==0.10.2 in ./.venv/lib/python3.11/site-packages (from -r requirements.txt (line 41)) (0.10.2)\n",
            "Requirement already satisfied: toolz==0.12.0 in ./.venv/lib/python3.11/site-packages (from -r requirements.txt (line 42)) (0.12.0)\n",
            "Requirement already satisfied: tqdm==4.65.0 in ./.venv/lib/python3.11/site-packages (from -r requirements.txt (line 43)) (4.65.0)\n",
            "Requirement already satisfied: typeguard==2.13.3 in ./.venv/lib/python3.11/site-packages (from -r requirements.txt (line 44)) (2.13.3)\n",
            "Requirement already satisfied: tzdata==2023.3 in ./.venv/lib/python3.11/site-packages (from -r requirements.txt (line 45)) (2023.3)\n",
            "Requirement already satisfied: tzlocal==5.0.1 in ./.venv/lib/python3.11/site-packages (from -r requirements.txt (line 46)) (5.0.1)\n",
            "Requirement already satisfied: validators==0.20.0 in ./.venv/lib/python3.11/site-packages (from -r requirements.txt (line 47)) (0.20.0)\n",
            "Requirement already satisfied: visions==0.7.5 in ./.venv/lib/python3.11/site-packages (from -r requirements.txt (line 48)) (0.7.5)\n",
            "Requirement already satisfied: watchdog==3.0.0 in ./.venv/lib/python3.11/site-packages (from -r requirements.txt (line 49)) (3.0.0)\n",
            "Requirement already satisfied: widgetsnbextension==4.0.7 in ./.venv/lib/python3.11/site-packages (from -r requirements.txt (line 50)) (4.0.7)\n",
            "Requirement already satisfied: wordcloud==1.9.2 in ./.venv/lib/python3.11/site-packages (from -r requirements.txt (line 51)) (1.9.2)\n",
            "Requirement already satisfied: xgboost==1.7.5 in ./.venv/lib/python3.11/site-packages (from -r requirements.txt (line 52)) (1.7.5)\n",
            "Requirement already satisfied: ydata-profiling==4.2.0 in ./.venv/lib/python3.11/site-packages (from -r requirements.txt (line 53)) (4.2.0)\n",
            "Requirement already satisfied: jinja2 in ./.venv/lib/python3.11/site-packages (from altair==5.0.1->-r requirements.txt (line 1)) (3.1.2)\n",
            "Requirement already satisfied: jsonschema>=3.0 in ./.venv/lib/python3.11/site-packages (from altair==5.0.1->-r requirements.txt (line 1)) (4.17.3)\n",
            "Requirement already satisfied: ipykernel>=4.5.1 in ./.venv/lib/python3.11/site-packages (from ipywidgets==8.0.6->-r requirements.txt (line 14)) (6.23.1)\n",
            "Requirement already satisfied: ipython>=6.1.0 in ./.venv/lib/python3.11/site-packages (from ipywidgets==8.0.6->-r requirements.txt (line 14)) (8.14.0)\n",
            "Requirement already satisfied: traitlets>=4.3.1 in ./.venv/lib/python3.11/site-packages (from ipywidgets==8.0.6->-r requirements.txt (line 14)) (5.9.0)\n",
            "Requirement already satisfied: packaging>=20.0 in ./.venv/lib/python3.11/site-packages (from matplotlib==3.7.1->-r requirements.txt (line 18)) (23.1)\n",
            "Requirement already satisfied: python-dateutil>=2.7 in ./.venv/lib/python3.11/site-packages (from matplotlib==3.7.1->-r requirements.txt (line 18)) (2.8.2)\n",
            "Requirement already satisfied: six in ./.venv/lib/python3.11/site-packages (from patsy==0.5.3->-r requirements.txt (line 23)) (1.16.0)\n",
            "Requirement already satisfied: typing-extensions>=4.2.0 in ./.venv/lib/python3.11/site-packages (from pydantic==1.10.8->-r requirements.txt (line 29)) (4.6.3)\n",
            "Requirement already satisfied: attrs in ./.venv/lib/python3.11/site-packages (from streamlit==0.85.0->-r requirements.txt (line 38)) (23.1.0)\n",
            "Requirement already satisfied: requests in ./.venv/lib/python3.11/site-packages (from streamlit==0.85.0->-r requirements.txt (line 38)) (2.31.0)\n",
            "Requirement already satisfied: tornado>=5.0 in ./.venv/lib/python3.11/site-packages (from streamlit==0.85.0->-r requirements.txt (line 38)) (6.3.2)\n",
            "Requirement already satisfied: gitpython in ./.venv/lib/python3.11/site-packages (from streamlit==0.85.0->-r requirements.txt (line 38)) (3.1.31)\n",
            "Requirement already satisfied: decorator>=3.4.0 in ./.venv/lib/python3.11/site-packages (from validators==0.20.0->-r requirements.txt (line 47)) (5.1.1)\n",
            "Requirement already satisfied: PyYAML<6.1,>=5.0.0 in ./.venv/lib/python3.11/site-packages (from ydata-profiling==4.2.0->-r requirements.txt (line 53)) (6.0)\n",
            "Requirement already satisfied: appnope in ./.venv/lib/python3.11/site-packages (from ipykernel>=4.5.1->ipywidgets==8.0.6->-r requirements.txt (line 14)) (0.1.3)\n",
            "Requirement already satisfied: comm>=0.1.1 in ./.venv/lib/python3.11/site-packages (from ipykernel>=4.5.1->ipywidgets==8.0.6->-r requirements.txt (line 14)) (0.1.3)\n",
            "Requirement already satisfied: debugpy>=1.6.5 in ./.venv/lib/python3.11/site-packages (from ipykernel>=4.5.1->ipywidgets==8.0.6->-r requirements.txt (line 14)) (1.6.7)\n",
            "Requirement already satisfied: jupyter-client>=6.1.12 in ./.venv/lib/python3.11/site-packages (from ipykernel>=4.5.1->ipywidgets==8.0.6->-r requirements.txt (line 14)) (8.2.0)\n",
            "Requirement already satisfied: jupyter-core!=5.0.*,>=4.12 in ./.venv/lib/python3.11/site-packages (from ipykernel>=4.5.1->ipywidgets==8.0.6->-r requirements.txt (line 14)) (5.3.0)\n",
            "Requirement already satisfied: matplotlib-inline>=0.1 in ./.venv/lib/python3.11/site-packages (from ipykernel>=4.5.1->ipywidgets==8.0.6->-r requirements.txt (line 14)) (0.1.6)\n",
            "Requirement already satisfied: nest-asyncio in ./.venv/lib/python3.11/site-packages (from ipykernel>=4.5.1->ipywidgets==8.0.6->-r requirements.txt (line 14)) (1.5.6)\n",
            "Requirement already satisfied: psutil in ./.venv/lib/python3.11/site-packages (from ipykernel>=4.5.1->ipywidgets==8.0.6->-r requirements.txt (line 14)) (5.9.5)\n",
            "Requirement already satisfied: pyzmq>=20 in ./.venv/lib/python3.11/site-packages (from ipykernel>=4.5.1->ipywidgets==8.0.6->-r requirements.txt (line 14)) (25.1.0)\n",
            "Requirement already satisfied: backcall in ./.venv/lib/python3.11/site-packages (from ipython>=6.1.0->ipywidgets==8.0.6->-r requirements.txt (line 14)) (0.2.0)\n",
            "Requirement already satisfied: jedi>=0.16 in ./.venv/lib/python3.11/site-packages (from ipython>=6.1.0->ipywidgets==8.0.6->-r requirements.txt (line 14)) (0.18.2)\n",
            "Requirement already satisfied: pickleshare in ./.venv/lib/python3.11/site-packages (from ipython>=6.1.0->ipywidgets==8.0.6->-r requirements.txt (line 14)) (0.7.5)\n",
            "Requirement already satisfied: prompt-toolkit!=3.0.37,<3.1.0,>=3.0.30 in ./.venv/lib/python3.11/site-packages (from ipython>=6.1.0->ipywidgets==8.0.6->-r requirements.txt (line 14)) (3.0.38)\n",
            "Requirement already satisfied: pygments>=2.4.0 in ./.venv/lib/python3.11/site-packages (from ipython>=6.1.0->ipywidgets==8.0.6->-r requirements.txt (line 14)) (2.15.1)\n",
            "Requirement already satisfied: stack-data in ./.venv/lib/python3.11/site-packages (from ipython>=6.1.0->ipywidgets==8.0.6->-r requirements.txt (line 14)) (0.6.2)\n",
            "Requirement already satisfied: pexpect>4.3 in ./.venv/lib/python3.11/site-packages (from ipython>=6.1.0->ipywidgets==8.0.6->-r requirements.txt (line 14)) (4.8.0)\n",
            "Requirement already satisfied: MarkupSafe>=2.0 in ./.venv/lib/python3.11/site-packages (from jinja2->altair==5.0.1->-r requirements.txt (line 1)) (2.1.3)\n",
            "Requirement already satisfied: pyrsistent!=0.17.0,!=0.17.1,!=0.17.2,>=0.14.0 in ./.venv/lib/python3.11/site-packages (from jsonschema>=3.0->altair==5.0.1->-r requirements.txt (line 1)) (0.19.3)\n",
            "Requirement already satisfied: charset-normalizer<4,>=2 in ./.venv/lib/python3.11/site-packages (from requests->streamlit==0.85.0->-r requirements.txt (line 38)) (3.1.0)\n",
            "Requirement already satisfied: idna<4,>=2.5 in ./.venv/lib/python3.11/site-packages (from requests->streamlit==0.85.0->-r requirements.txt (line 38)) (3.4)\n",
            "Requirement already satisfied: urllib3<3,>=1.21.1 in ./.venv/lib/python3.11/site-packages (from requests->streamlit==0.85.0->-r requirements.txt (line 38)) (2.0.3)\n",
            "Requirement already satisfied: certifi>=2017.4.17 in ./.venv/lib/python3.11/site-packages (from requests->streamlit==0.85.0->-r requirements.txt (line 38)) (2023.5.7)\n",
            "Requirement already satisfied: gitdb<5,>=4.0.1 in ./.venv/lib/python3.11/site-packages (from gitpython->streamlit==0.85.0->-r requirements.txt (line 38)) (4.0.10)\n",
            "Requirement already satisfied: smmap<6,>=3.0.1 in ./.venv/lib/python3.11/site-packages (from gitdb<5,>=4.0.1->gitpython->streamlit==0.85.0->-r requirements.txt (line 38)) (5.0.0)\n",
            "Requirement already satisfied: parso<0.9.0,>=0.8.0 in ./.venv/lib/python3.11/site-packages (from jedi>=0.16->ipython>=6.1.0->ipywidgets==8.0.6->-r requirements.txt (line 14)) (0.8.3)\n",
            "Requirement already satisfied: platformdirs>=2.5 in ./.venv/lib/python3.11/site-packages (from jupyter-core!=5.0.*,>=4.12->ipykernel>=4.5.1->ipywidgets==8.0.6->-r requirements.txt (line 14)) (3.5.1)\n",
            "Requirement already satisfied: ptyprocess>=0.5 in ./.venv/lib/python3.11/site-packages (from pexpect>4.3->ipython>=6.1.0->ipywidgets==8.0.6->-r requirements.txt (line 14)) (0.7.0)\n",
            "Requirement already satisfied: wcwidth in ./.venv/lib/python3.11/site-packages (from prompt-toolkit!=3.0.37,<3.1.0,>=3.0.30->ipython>=6.1.0->ipywidgets==8.0.6->-r requirements.txt (line 14)) (0.2.6)\n",
            "Requirement already satisfied: executing>=1.2.0 in ./.venv/lib/python3.11/site-packages (from stack-data->ipython>=6.1.0->ipywidgets==8.0.6->-r requirements.txt (line 14)) (1.2.0)\n",
            "Requirement already satisfied: asttokens>=2.1.0 in ./.venv/lib/python3.11/site-packages (from stack-data->ipython>=6.1.0->ipywidgets==8.0.6->-r requirements.txt (line 14)) (2.2.1)\n",
            "Requirement already satisfied: pure-eval in ./.venv/lib/python3.11/site-packages (from stack-data->ipython>=6.1.0->ipywidgets==8.0.6->-r requirements.txt (line 14)) (0.2.2)\n",
            "Note: you may need to restart the kernel to use updated packages.\n"
          ]
        }
      ],
      "source": [
        "%pip install -r requirements.txt"
      ]
    },
    {
      "attachments": {},
      "cell_type": "markdown",
      "metadata": {
        "id": "-mavJ8DibrcQ"
      },
      "source": [
        "## Fetch Data from Kaggle"
      ]
    },
    {
      "attachments": {},
      "cell_type": "markdown",
      "metadata": {},
      "source": [
        "Install Kaggle"
      ]
    },
    {
      "cell_type": "code",
      "execution_count": 3,
      "metadata": {},
      "outputs": [
        {
          "name": "stdout",
          "output_type": "stream",
          "text": [
            "Collecting kaggle==1.5.12\n",
            "  Using cached kaggle-1.5.12-py3-none-any.whl\n",
            "Requirement already satisfied: six>=1.10 in ./.venv/lib/python3.11/site-packages (from kaggle==1.5.12) (1.16.0)\n",
            "Requirement already satisfied: certifi in ./.venv/lib/python3.11/site-packages (from kaggle==1.5.12) (2023.5.7)\n",
            "Requirement already satisfied: python-dateutil in ./.venv/lib/python3.11/site-packages (from kaggle==1.5.12) (2.8.2)\n",
            "Requirement already satisfied: requests in ./.venv/lib/python3.11/site-packages (from kaggle==1.5.12) (2.31.0)\n",
            "Requirement already satisfied: tqdm in ./.venv/lib/python3.11/site-packages (from kaggle==1.5.12) (4.65.0)\n",
            "Collecting python-slugify (from kaggle==1.5.12)\n",
            "  Using cached python_slugify-8.0.1-py2.py3-none-any.whl (9.7 kB)\n",
            "Requirement already satisfied: urllib3 in ./.venv/lib/python3.11/site-packages (from kaggle==1.5.12) (2.0.3)\n",
            "Collecting text-unidecode>=1.3 (from python-slugify->kaggle==1.5.12)\n",
            "  Using cached text_unidecode-1.3-py2.py3-none-any.whl (78 kB)\n",
            "Requirement already satisfied: charset-normalizer<4,>=2 in ./.venv/lib/python3.11/site-packages (from requests->kaggle==1.5.12) (3.1.0)\n",
            "Requirement already satisfied: idna<4,>=2.5 in ./.venv/lib/python3.11/site-packages (from requests->kaggle==1.5.12) (3.4)\n",
            "Installing collected packages: text-unidecode, python-slugify, kaggle\n",
            "Successfully installed kaggle-1.5.12 python-slugify-8.0.1 text-unidecode-1.3\n",
            "Note: you may need to restart the kernel to use updated packages.\n"
          ]
        }
      ],
      "source": [
        "%pip install kaggle==1.5.12"
      ]
    },
    {
      "attachments": {},
      "cell_type": "markdown",
      "metadata": {},
      "source": [
        "Recognise the JSON token in this session."
      ]
    },
    {
      "cell_type": "code",
      "execution_count": 4,
      "metadata": {},
      "outputs": [],
      "source": [
        "os.environ['KAGGLE_CONFIG_DIR'] = os.getcwd()\n",
        "! chmod 600 kaggle.json"
      ]
    },
    {
      "attachments": {},
      "cell_type": "markdown",
      "metadata": {},
      "source": [
        "Define the Kaggle dataset and destination folder.\n",
        "Download the the dataset."
      ]
    },
    {
      "cell_type": "code",
      "execution_count": 5,
      "metadata": {},
      "outputs": [
        {
          "name": "stdout",
          "output_type": "stream",
          "text": [
            "Downloading credit-card-fraud.zip to inputs/datasets/raw\n",
            " 93%|███████████████████████████████████▌  | 27.0M/28.9M [00:02<00:00, 14.8MB/s]\n",
            "100%|██████████████████████████████████████| 28.9M/28.9M [00:02<00:00, 11.7MB/s]\n"
          ]
        }
      ],
      "source": [
        "KaggleDatasetPath = \"dhanushnarayananr/credit-card-fraud\"\n",
        "DestinationFolder = \"inputs/datasets/raw\"   \n",
        "! kaggle datasets download -d {KaggleDatasetPath} -p {DestinationFolder}"
      ]
    },
    {
      "attachments": {},
      "cell_type": "markdown",
      "metadata": {},
      "source": [
        "Unzip the downloaded file, delete the zip file and delete the kaggle.json file"
      ]
    },
    {
      "cell_type": "code",
      "execution_count": 6,
      "metadata": {},
      "outputs": [
        {
          "name": "stdout",
          "output_type": "stream",
          "text": [
            "Archive:  inputs/datasets/raw/credit-card-fraud.zip\n",
            "  inflating: inputs/datasets/raw/card_transdata.csv  \n"
          ]
        }
      ],
      "source": [
        "! unzip {DestinationFolder}/*.zip -d {DestinationFolder} \\\n",
        "  && rm {DestinationFolder}/*.zip \\\n",
        "  && rm kaggle.json"
      ]
    },
    {
      "cell_type": "markdown",
      "metadata": {
        "id": "ZY3l0-AxO93d"
      },
      "source": [
        "---"
      ]
    },
    {
      "attachments": {},
      "cell_type": "markdown",
      "metadata": {
        "id": "uFQo3ycuO-v6"
      },
      "source": [
        "## Initial Inspection of Data"
      ]
    },
    {
      "cell_type": "code",
      "execution_count": 7,
      "metadata": {},
      "outputs": [
        {
          "data": {
            "text/html": [
              "<div>\n",
              "<style scoped>\n",
              "    .dataframe tbody tr th:only-of-type {\n",
              "        vertical-align: middle;\n",
              "    }\n",
              "\n",
              "    .dataframe tbody tr th {\n",
              "        vertical-align: top;\n",
              "    }\n",
              "\n",
              "    .dataframe thead th {\n",
              "        text-align: right;\n",
              "    }\n",
              "</style>\n",
              "<table border=\"1\" class=\"dataframe\">\n",
              "  <thead>\n",
              "    <tr style=\"text-align: right;\">\n",
              "      <th></th>\n",
              "      <th>distance_from_home</th>\n",
              "      <th>distance_from_last_transaction</th>\n",
              "      <th>ratio_to_median_purchase_price</th>\n",
              "      <th>repeat_retailer</th>\n",
              "      <th>used_chip</th>\n",
              "      <th>used_pin_number</th>\n",
              "      <th>online_order</th>\n",
              "      <th>fraud</th>\n",
              "    </tr>\n",
              "  </thead>\n",
              "  <tbody>\n",
              "    <tr>\n",
              "      <th>0</th>\n",
              "      <td>57.877857</td>\n",
              "      <td>0.311140</td>\n",
              "      <td>1.945940</td>\n",
              "      <td>1.0</td>\n",
              "      <td>1.0</td>\n",
              "      <td>0.0</td>\n",
              "      <td>0.0</td>\n",
              "      <td>0.0</td>\n",
              "    </tr>\n",
              "    <tr>\n",
              "      <th>1</th>\n",
              "      <td>10.829943</td>\n",
              "      <td>0.175592</td>\n",
              "      <td>1.294219</td>\n",
              "      <td>1.0</td>\n",
              "      <td>0.0</td>\n",
              "      <td>0.0</td>\n",
              "      <td>0.0</td>\n",
              "      <td>0.0</td>\n",
              "    </tr>\n",
              "    <tr>\n",
              "      <th>2</th>\n",
              "      <td>5.091079</td>\n",
              "      <td>0.805153</td>\n",
              "      <td>0.427715</td>\n",
              "      <td>1.0</td>\n",
              "      <td>0.0</td>\n",
              "      <td>0.0</td>\n",
              "      <td>1.0</td>\n",
              "      <td>0.0</td>\n",
              "    </tr>\n",
              "    <tr>\n",
              "      <th>3</th>\n",
              "      <td>2.247564</td>\n",
              "      <td>5.600044</td>\n",
              "      <td>0.362663</td>\n",
              "      <td>1.0</td>\n",
              "      <td>1.0</td>\n",
              "      <td>0.0</td>\n",
              "      <td>1.0</td>\n",
              "      <td>0.0</td>\n",
              "    </tr>\n",
              "    <tr>\n",
              "      <th>4</th>\n",
              "      <td>44.190936</td>\n",
              "      <td>0.566486</td>\n",
              "      <td>2.222767</td>\n",
              "      <td>1.0</td>\n",
              "      <td>1.0</td>\n",
              "      <td>0.0</td>\n",
              "      <td>1.0</td>\n",
              "      <td>0.0</td>\n",
              "    </tr>\n",
              "  </tbody>\n",
              "</table>\n",
              "</div>"
            ],
            "text/plain": [
              "   distance_from_home  distance_from_last_transaction  \\\n",
              "0           57.877857                        0.311140   \n",
              "1           10.829943                        0.175592   \n",
              "2            5.091079                        0.805153   \n",
              "3            2.247564                        5.600044   \n",
              "4           44.190936                        0.566486   \n",
              "\n",
              "   ratio_to_median_purchase_price  repeat_retailer  used_chip  \\\n",
              "0                        1.945940              1.0        1.0   \n",
              "1                        1.294219              1.0        0.0   \n",
              "2                        0.427715              1.0        0.0   \n",
              "3                        0.362663              1.0        1.0   \n",
              "4                        2.222767              1.0        1.0   \n",
              "\n",
              "   used_pin_number  online_order  fraud  \n",
              "0              0.0           0.0    0.0  \n",
              "1              0.0           0.0    0.0  \n",
              "2              0.0           1.0    0.0  \n",
              "3              0.0           1.0    0.0  \n",
              "4              0.0           1.0    0.0  "
            ]
          },
          "execution_count": 7,
          "metadata": {},
          "output_type": "execute_result"
        }
      ],
      "source": [
        "import pandas as pd\n",
        "df = pd.read_csv(f\"inputs/datasets/raw/card_transdata.csv\")\n",
        "df.head()"
      ]
    },
    {
      "cell_type": "code",
      "execution_count": 8,
      "metadata": {},
      "outputs": [
        {
          "name": "stdout",
          "output_type": "stream",
          "text": [
            "<class 'pandas.core.frame.DataFrame'>\n",
            "RangeIndex: 1000000 entries, 0 to 999999\n",
            "Data columns (total 8 columns):\n",
            " #   Column                          Non-Null Count    Dtype  \n",
            "---  ------                          --------------    -----  \n",
            " 0   distance_from_home              1000000 non-null  float64\n",
            " 1   distance_from_last_transaction  1000000 non-null  float64\n",
            " 2   ratio_to_median_purchase_price  1000000 non-null  float64\n",
            " 3   repeat_retailer                 1000000 non-null  float64\n",
            " 4   used_chip                       1000000 non-null  float64\n",
            " 5   used_pin_number                 1000000 non-null  float64\n",
            " 6   online_order                    1000000 non-null  float64\n",
            " 7   fraud                           1000000 non-null  float64\n",
            "dtypes: float64(8)\n",
            "memory usage: 61.0 MB\n"
          ]
        }
      ],
      "source": [
        "df.info()"
      ]
    },
    {
      "cell_type": "markdown",
      "metadata": {},
      "source": [
        "---"
      ]
    },
    {
      "cell_type": "markdown",
      "metadata": {},
      "source": [
        "---"
      ]
    },
    {
      "attachments": {},
      "cell_type": "markdown",
      "metadata": {
        "id": "ltNetd085qHf"
      },
      "source": [
        "## Save Files in Repo"
      ]
    },
    {
      "cell_type": "code",
      "execution_count": 9,
      "metadata": {
        "id": "aKlnIozA4eQO",
        "outputId": "fd09bc1f-adb1-4511-f6ce-492a6af570c0"
      },
      "outputs": [],
      "source": [
        "import os\n",
        "try:\n",
        "  os.makedirs(name=f'outputs/datasets/collection')\n",
        "except Exception as e:\n",
        "  print(e)\n"
      ]
    },
    {
      "cell_type": "code",
      "execution_count": null,
      "metadata": {},
      "outputs": [],
      "source": [
        "df.to_csv(f\"outputs/datasets/collection/card_transactions.csv\",index=False)"
      ]
    },
    {
      "attachments": {},
      "cell_type": "markdown",
      "metadata": {},
      "source": [
        "## Next Steps"
      ]
    },
    {
      "cell_type": "markdown",
      "metadata": {},
      "source": []
    }
  ],
  "metadata": {
    "accelerator": "GPU",
    "colab": {
      "name": "Data Practitioner Jupyter Notebook.ipynb",
      "provenance": [],
      "toc_visible": true
    },
    "interpreter": {
      "hash": "8b8334dab9339717f727a1deaf837b322d7a41c20d15cc86be99a8e69ceec8ce"
    },
    "kernelspec": {
      "display_name": "Python 3.8.12 64-bit ('3.8.12': pyenv)",
      "name": "python3"
    },
    "language_info": {
      "codemirror_mode": {
        "name": "ipython",
        "version": 3
      },
      "file_extension": ".py",
      "mimetype": "text/x-python",
      "name": "python",
      "nbconvert_exporter": "python",
      "pygments_lexer": "ipython3",
      "version": "3.11.2"
    },
    "orig_nbformat": 2
  },
  "nbformat": 4,
  "nbformat_minor": 2
}
